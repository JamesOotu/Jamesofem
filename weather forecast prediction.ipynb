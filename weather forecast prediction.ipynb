{
 "cells": [
  {
   "cell_type": "code",
   "execution_count": 1,
   "id": "ff273b54-c577-491d-b3f1-f7b026fce214",
   "metadata": {},
   "outputs": [],
   "source": [
    "import pandas as pd\n",
    "import numpy as np\n",
    "import matplotlib.pyplot as plt"
   ]
  },
  {
   "cell_type": "code",
   "execution_count": 5,
   "id": "3db399b4-74bc-4218-901d-9fd8a95d863b",
   "metadata": {},
   "outputs": [],
   "source": [
    "df = pd.read_csv(\"weather_forecast_data.csv\")"
   ]
  },
  {
   "cell_type": "code",
   "execution_count": 6,
   "id": "b1f15599-7694-4d8f-955f-72160d1b69f3",
   "metadata": {},
   "outputs": [
    {
     "data": {
      "text/html": [
       "<div>\n",
       "<style scoped>\n",
       "    .dataframe tbody tr th:only-of-type {\n",
       "        vertical-align: middle;\n",
       "    }\n",
       "\n",
       "    .dataframe tbody tr th {\n",
       "        vertical-align: top;\n",
       "    }\n",
       "\n",
       "    .dataframe thead th {\n",
       "        text-align: right;\n",
       "    }\n",
       "</style>\n",
       "<table border=\"1\" class=\"dataframe\">\n",
       "  <thead>\n",
       "    <tr style=\"text-align: right;\">\n",
       "      <th></th>\n",
       "      <th>Temperature</th>\n",
       "      <th>Humidity</th>\n",
       "      <th>Wind_Speed</th>\n",
       "      <th>Cloud_Cover</th>\n",
       "      <th>Pressure</th>\n",
       "      <th>Rain</th>\n",
       "    </tr>\n",
       "  </thead>\n",
       "  <tbody>\n",
       "    <tr>\n",
       "      <th>0</th>\n",
       "      <td>23.720338</td>\n",
       "      <td>89.592641</td>\n",
       "      <td>7.335604</td>\n",
       "      <td>50.501694</td>\n",
       "      <td>1032.378759</td>\n",
       "      <td>rain</td>\n",
       "    </tr>\n",
       "    <tr>\n",
       "      <th>1</th>\n",
       "      <td>27.879734</td>\n",
       "      <td>46.489704</td>\n",
       "      <td>5.952484</td>\n",
       "      <td>4.990053</td>\n",
       "      <td>992.614189</td>\n",
       "      <td>no rain</td>\n",
       "    </tr>\n",
       "    <tr>\n",
       "      <th>2</th>\n",
       "      <td>25.069084</td>\n",
       "      <td>83.072843</td>\n",
       "      <td>1.371992</td>\n",
       "      <td>14.855784</td>\n",
       "      <td>1007.231620</td>\n",
       "      <td>no rain</td>\n",
       "    </tr>\n",
       "    <tr>\n",
       "      <th>3</th>\n",
       "      <td>23.622080</td>\n",
       "      <td>74.367758</td>\n",
       "      <td>7.050551</td>\n",
       "      <td>67.255282</td>\n",
       "      <td>982.632013</td>\n",
       "      <td>rain</td>\n",
       "    </tr>\n",
       "    <tr>\n",
       "      <th>4</th>\n",
       "      <td>20.591370</td>\n",
       "      <td>96.858822</td>\n",
       "      <td>4.643921</td>\n",
       "      <td>47.676444</td>\n",
       "      <td>980.825142</td>\n",
       "      <td>no rain</td>\n",
       "    </tr>\n",
       "  </tbody>\n",
       "</table>\n",
       "</div>"
      ],
      "text/plain": [
       "   Temperature   Humidity  Wind_Speed  Cloud_Cover     Pressure     Rain\n",
       "0    23.720338  89.592641    7.335604    50.501694  1032.378759     rain\n",
       "1    27.879734  46.489704    5.952484     4.990053   992.614189  no rain\n",
       "2    25.069084  83.072843    1.371992    14.855784  1007.231620  no rain\n",
       "3    23.622080  74.367758    7.050551    67.255282   982.632013     rain\n",
       "4    20.591370  96.858822    4.643921    47.676444   980.825142  no rain"
      ]
     },
     "execution_count": 6,
     "metadata": {},
     "output_type": "execute_result"
    }
   ],
   "source": [
    "df.head()"
   ]
  },
  {
   "cell_type": "code",
   "execution_count": 7,
   "id": "a36ab7d3-6416-44b9-b10c-a9132ea43dfc",
   "metadata": {},
   "outputs": [
    {
     "data": {
      "text/plain": [
       "Temperature    0\n",
       "Humidity       0\n",
       "Wind_Speed     0\n",
       "Cloud_Cover    0\n",
       "Pressure       0\n",
       "Rain           0\n",
       "dtype: int64"
      ]
     },
     "execution_count": 7,
     "metadata": {},
     "output_type": "execute_result"
    }
   ],
   "source": [
    "df.isnull().sum()"
   ]
  },
  {
   "cell_type": "code",
   "execution_count": 8,
   "id": "45e9d646-49bd-4369-b3a0-963ca7152a01",
   "metadata": {},
   "outputs": [
    {
     "data": {
      "text/plain": [
       "0"
      ]
     },
     "execution_count": 8,
     "metadata": {},
     "output_type": "execute_result"
    }
   ],
   "source": [
    "df.duplicated().sum()"
   ]
  },
  {
   "cell_type": "code",
   "execution_count": 71,
   "id": "dfce2b92-b51d-4d6f-8d0e-68c1bae4aaa5",
   "metadata": {},
   "outputs": [],
   "source": [
    "# Checking for missing values"
   ]
  },
  {
   "cell_type": "code",
   "execution_count": 79,
   "id": "81a9b02e-46ae-4c63-a3ca-588b7e0fb8d9",
   "metadata": {},
   "outputs": [
    {
     "ename": "NameError",
     "evalue": "name 'df' is not defined",
     "output_type": "error",
     "traceback": [
      "\u001b[1;31m---------------------------------------------------------------------------\u001b[0m",
      "\u001b[1;31mNameError\u001b[0m                                 Traceback (most recent call last)",
      "Cell \u001b[1;32mIn[79], line 1\u001b[0m\n\u001b[1;32m----> 1\u001b[0m df_cleaned \u001b[38;5;241m=\u001b[39m df\u001b[38;5;241m.\u001b[39mdropna()\n",
      "\u001b[1;31mNameError\u001b[0m: name 'df' is not defined"
     ]
    }
   ],
   "source": [
    "df_cleaned = df.dropna()"
   ]
  },
  {
   "cell_type": "code",
   "execution_count": null,
   "id": "ccac2956-c921-48b7-964c-5c4836336a71",
   "metadata": {},
   "outputs": [],
   "source": []
  }
 ],
 "metadata": {
  "kernelspec": {
   "display_name": "Python [conda env:base] *",
   "language": "python",
   "name": "conda-base-py"
  },
  "language_info": {
   "codemirror_mode": {
    "name": "ipython",
    "version": 3
   },
   "file_extension": ".py",
   "mimetype": "text/x-python",
   "name": "python",
   "nbconvert_exporter": "python",
   "pygments_lexer": "ipython3",
   "version": "3.12.7"
  }
 },
 "nbformat": 4,
 "nbformat_minor": 5
}
